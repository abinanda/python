{
 "cells": [
  {
   "cell_type": "markdown",
   "id": "77caf532",
   "metadata": {},
   "source": [
    "### 1) Write the code in Python to open a file named “try.txt”"
   ]
  },
  {
   "cell_type": "code",
   "execution_count": 7,
   "id": "4114ab29",
   "metadata": {},
   "outputs": [],
   "source": [
    "text=\"\"\"If an exception occurs within the try block, the execution jumps to the appropriate except block based on the type of exception.\n",
    "In this case, if a ZeroDivisionError occurs (division by 0), the code inside the except block for ZeroDivisionError is executed, which prints the error message.\n",
    "Since there is no other except block for other types of ex\"\"\"\n",
    "\n",
    "file=open(\"try.txt\",'w+')\n",
    "file.write(text)\n",
    "file.close()"
   ]
  },
  {
   "cell_type": "code",
   "execution_count": 9,
   "id": "e74d9aa6",
   "metadata": {},
   "outputs": [
    {
     "name": "stdout",
     "output_type": "stream",
     "text": [
      "If an exception occurs within the try block, the execution jumps to the appropriate except block based on the type of exception.\n",
      "In this case, if a ZeroDivisionError occurs (division by 0), the code inside the except block for ZeroDivisionError is executed, which prints the error message.\n",
      "Since there is no other except block for other types of ex\n"
     ]
    }
   ],
   "source": [
    "with open (\"try.txt\") as file:\n",
    "    x=file.read()\n",
    "    print(x)"
   ]
  },
  {
   "cell_type": "markdown",
   "id": "b43e2afb",
   "metadata": {},
   "source": [
    "### 2) What is the purpose of ‘r’ as a prefix in the given statement? \n",
    "     #f = open(r, “d:\\color\\flower.txt”)\n"
   ]
  },
  {
   "cell_type": "markdown",
   "id": "067dbca3",
   "metadata": {},
   "source": [
    " in python \\ slash is used an escape statement for a charavter in a string.. \n",
    "for avoiding python form assuming the slash \\ used in the document path...we are using r as prefix\n",
    " it will limit python from assuming the slash as an escape statement"
   ]
  },
  {
   "cell_type": "markdown",
   "id": "2d234e63",
   "metadata": {},
   "source": [
    "### 3) Write a note on the following\n",
    "#A.\tPurpose of Exception Handling\n",
    "#B.\tTry block\n",
    "#C.\tExcept block\n",
    "#D.\tElse block\n",
    "#E.\tFinally block\n",
    "#F.\tBulit-in exceptions\n"
   ]
  },
  {
   "cell_type": "markdown",
   "id": "35cc35aa",
   "metadata": {},
   "source": [
    "A. Purpose of exception handling: Exception handling used to avoid the runtime errors occurs when a condition or a statements or a function etc fails. it is used to avoid program crashing\n",
    " \n",
    "B. TRY BLOCK : Try block will ec=xecute the block of code that is given inside the try block first and it pushes to the next step of program skipping except ...if the code in try block works correctly\n",
    "\n",
    "C. Except Block : Except block will raise an error that we defined to raise if the code in try block doesnt function properly..or the code inside the except block will be executed\n",
    "\n",
    "D. ELSE BLOCK : Else block will execute the code in it ...if the previous block try works properly and an exceptiomn is not raised\n",
    "\n",
    "E. FINALLY BLOCK : Finally block will execute the code in it...no matter the previous blocks executed properly or raised an exception\n"
   ]
  },
  {
   "cell_type": "code",
   "execution_count": 14,
   "id": "c4dc9ab8",
   "metadata": {},
   "outputs": [
    {
     "name": "stdout",
     "output_type": "stream",
     "text": [
      "['ArithmeticError', 'AssertionError', 'AttributeError', 'BaseException', 'BlockingIOError', 'BrokenPipeError', 'BufferError', 'BytesWarning', 'ChildProcessError', 'ConnectionAbortedError', 'ConnectionError', 'ConnectionRefusedError', 'ConnectionResetError', 'DeprecationWarning', 'EOFError', 'Ellipsis', 'EnvironmentError', 'Exception', 'False', 'FileExistsError', 'FileNotFoundError', 'FloatingPointError', 'FutureWarning', 'GeneratorExit', 'IOError', 'ImportError', 'ImportWarning', 'IndentationError', 'IndexError', 'InterruptedError', 'IsADirectoryError', 'KeyError', 'KeyboardInterrupt', 'LookupError', 'MemoryError', 'ModuleNotFoundError', 'NameError', 'None', 'NotADirectoryError', 'NotImplemented', 'NotImplementedError', 'OSError', 'OverflowError', 'PendingDeprecationWarning', 'PermissionError', 'ProcessLookupError', 'RecursionError', 'ReferenceError', 'ResourceWarning', 'RuntimeError', 'RuntimeWarning', 'StopAsyncIteration', 'StopIteration', 'SyntaxError', 'SyntaxWarning', 'SystemError', 'SystemExit', 'TabError', 'TimeoutError', 'True', 'TypeError', 'UnboundLocalError', 'UnicodeDecodeError', 'UnicodeEncodeError', 'UnicodeError', 'UnicodeTranslateError', 'UnicodeWarning', 'UserWarning', 'ValueError', 'Warning', 'WindowsError', 'ZeroDivisionError', '__IPYTHON__', '__build_class__', '__debug__', '__doc__', '__import__', '__loader__', '__name__', '__package__', '__spec__', 'abs', 'all', 'any', 'ascii', 'bin', 'bool', 'breakpoint', 'bytearray', 'bytes', 'callable', 'chr', 'classmethod', 'compile', 'complex', 'copyright', 'credits', 'delattr', 'dict', 'dir', 'display', 'divmod', 'enumerate', 'eval', 'exec', 'execfile', 'filter', 'float', 'format', 'frozenset', 'get_ipython', 'getattr', 'globals', 'hasattr', 'hash', 'help', 'hex', 'id', 'input', 'int', 'isinstance', 'issubclass', 'iter', 'len', 'license', 'list', 'locals', 'map', 'max', 'memoryview', 'min', 'next', 'object', 'oct', 'open', 'ord', 'pow', 'print', 'property', 'range', 'repr', 'reversed', 'round', 'runfile', 'set', 'setattr', 'slice', 'sorted', 'staticmethod', 'str', 'sum', 'super', 'tuple', 'type', 'vars', 'zip']\n"
     ]
    }
   ],
   "source": [
    "# F. BULIT in EXCEPTIONS\n",
    "print(dir(locals()['__builtins__']))"
   ]
  },
  {
   "cell_type": "markdown",
   "id": "d2d309e6",
   "metadata": {},
   "source": [
    "### 4) Write 2 Custom exceptions"
   ]
  },
  {
   "cell_type": "code",
   "execution_count": 21,
   "id": "0fd42283",
   "metadata": {},
   "outputs": [
    {
     "name": "stdout",
     "output_type": "stream",
     "text": [
      "Enter a number: -6\n",
      "CustomException1: Number must be positive\n"
     ]
    }
   ],
   "source": [
    "try:\n",
    "    x = int(input(\"Enter a number: \"))\n",
    "    if x < 0:\n",
    "        raise ValueError(\"CustomException1: Number must be positive\")\n",
    "\n",
    "except ValueError as e:\n",
    "    print(e)"
   ]
  },
  {
   "cell_type": "code",
   "execution_count": 22,
   "id": "ff36d454",
   "metadata": {},
   "outputs": [
    {
     "name": "stdout",
     "output_type": "stream",
     "text": [
      "Enter a number: 5\n",
      "CustomException2: Number must be even\n"
     ]
    }
   ],
   "source": [
    "try:\n",
    "    x = int(input(\"Enter a number: \"))\n",
    "    assert x % 2 == 0, \"CustomException2: Number must be even\"\n",
    "except AssertionError as e:\n",
    "    print(e)\n"
   ]
  },
  {
   "cell_type": "code",
   "execution_count": null,
   "id": "c78fd76c",
   "metadata": {},
   "outputs": [],
   "source": []
  }
 ],
 "metadata": {
  "kernelspec": {
   "display_name": "Python 3 (ipykernel)",
   "language": "python",
   "name": "python3"
  },
  "language_info": {
   "codemirror_mode": {
    "name": "ipython",
    "version": 3
   },
   "file_extension": ".py",
   "mimetype": "text/x-python",
   "name": "python",
   "nbconvert_exporter": "python",
   "pygments_lexer": "ipython3",
   "version": "3.9.13"
  }
 },
 "nbformat": 4,
 "nbformat_minor": 5
}
