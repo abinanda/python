{
 "cells": [
  {
   "cell_type": "markdown",
   "id": "e85ce9e3",
   "metadata": {},
   "source": [
    "1)\tPlease take care of missing data present in the “Data.csv” file using the Python module \n",
    "\n",
    "    “sklearn.impute” and its methods, also collect all the data that has “Salary” less than “70,000”.\n"
   ]
  },
  {
   "cell_type": "code",
   "execution_count": 1,
   "id": "87ce2a1d",
   "metadata": {},
   "outputs": [
    {
     "data": {
      "text/plain": [
       "Index(['Position', 'State', 'Sex', 'MaritalDesc', 'CitizenDesc',\n",
       "       'EmploymentStatus', 'Department', 'Salaries', 'age', 'Race'],\n",
       "      dtype='object')"
      ]
     },
     "execution_count": 1,
     "metadata": {},
     "output_type": "execute_result"
    }
   ],
   "source": [
    "import pandas as pd\n",
    "from sklearn.impute import SimpleImputer\n",
    "data=pd.read_csv(\"Data.csv\")\n",
    "columnsmissingvalue=data.columns[data.isnull().any()]\n",
    "columnsmissingvalue"
   ]
  },
  {
   "cell_type": "code",
   "execution_count": 2,
   "id": "cb257c26",
   "metadata": {},
   "outputs": [],
   "source": [
    "numeric=data.select_dtypes(include=[float,int]).columns\n",
    "non_numeric=data.select_dtypes(include=[object]).columns"
   ]
  },
  {
   "cell_type": "code",
   "execution_count": 3,
   "id": "658e149c",
   "metadata": {},
   "outputs": [],
   "source": [
    "import numpy as np\n",
    "num_imputer=SimpleImputer(missing_values=np.nan,strategy=\"mean\")\n",
    "num_imputer.fit(data[numeric])\n",
    "num_column_imputed=num_imputer.transform(data[numeric])"
   ]
  },
  {
   "cell_type": "code",
   "execution_count": 4,
   "id": "812976ee",
   "metadata": {},
   "outputs": [],
   "source": [
    "string_imputer=SimpleImputer(missing_values=np.nan,strategy=\"most_frequent\")\n",
    "string_column_imputed=string_imputer.fit_transform(data[non_numeric])"
   ]
  },
  {
   "cell_type": "code",
   "execution_count": 5,
   "id": "c7dca7e1",
   "metadata": {},
   "outputs": [],
   "source": [
    "filtered_data=data[data[\"Salaries\"]<70000]"
   ]
  },
  {
   "cell_type": "code",
   "execution_count": 6,
   "id": "4639a976",
   "metadata": {},
   "outputs": [
    {
     "data": {
      "text/html": [
       "<div>\n",
       "<style scoped>\n",
       "    .dataframe tbody tr th:only-of-type {\n",
       "        vertical-align: middle;\n",
       "    }\n",
       "\n",
       "    .dataframe tbody tr th {\n",
       "        vertical-align: top;\n",
       "    }\n",
       "\n",
       "    .dataframe thead th {\n",
       "        text-align: right;\n",
       "    }\n",
       "</style>\n",
       "<table border=\"1\" class=\"dataframe\">\n",
       "  <thead>\n",
       "    <tr style=\"text-align: right;\">\n",
       "      <th></th>\n",
       "      <th>Position</th>\n",
       "      <th>State</th>\n",
       "      <th>Sex</th>\n",
       "      <th>MaritalDesc</th>\n",
       "      <th>CitizenDesc</th>\n",
       "      <th>EmploymentStatus</th>\n",
       "      <th>Department</th>\n",
       "      <th>Salaries</th>\n",
       "      <th>age</th>\n",
       "      <th>Race</th>\n",
       "    </tr>\n",
       "  </thead>\n",
       "  <tbody>\n",
       "    <tr>\n",
       "      <th>0</th>\n",
       "      <td>Accountant I</td>\n",
       "      <td>NaN</td>\n",
       "      <td>F</td>\n",
       "      <td>Married</td>\n",
       "      <td>US Citizen</td>\n",
       "      <td>Active</td>\n",
       "      <td>Admin Offices</td>\n",
       "      <td>674.28</td>\n",
       "      <td>NaN</td>\n",
       "      <td>Black or African American</td>\n",
       "    </tr>\n",
       "    <tr>\n",
       "      <th>1</th>\n",
       "      <td>Accountant I</td>\n",
       "      <td>MA</td>\n",
       "      <td>M</td>\n",
       "      <td>Divorced</td>\n",
       "      <td>US Citizen</td>\n",
       "      <td>Active</td>\n",
       "      <td>Admin Offices</td>\n",
       "      <td>674.28</td>\n",
       "      <td>50.0</td>\n",
       "      <td>Black or African American</td>\n",
       "    </tr>\n",
       "    <tr>\n",
       "      <th>2</th>\n",
       "      <td>Accountant I</td>\n",
       "      <td>MA</td>\n",
       "      <td>M</td>\n",
       "      <td>Single</td>\n",
       "      <td>NaN</td>\n",
       "      <td>Active</td>\n",
       "      <td>Admin Offices</td>\n",
       "      <td>674.28</td>\n",
       "      <td>43.0</td>\n",
       "      <td>White</td>\n",
       "    </tr>\n",
       "    <tr>\n",
       "      <th>3</th>\n",
       "      <td>Administrative Assistant</td>\n",
       "      <td>MA</td>\n",
       "      <td>F</td>\n",
       "      <td>NaN</td>\n",
       "      <td>US Citizen</td>\n",
       "      <td>Terminated for Cause</td>\n",
       "      <td>Admin Offices</td>\n",
       "      <td>47822.00</td>\n",
       "      <td>44.0</td>\n",
       "      <td>NaN</td>\n",
       "    </tr>\n",
       "    <tr>\n",
       "      <th>5</th>\n",
       "      <td>Administrative Assistant</td>\n",
       "      <td>MA</td>\n",
       "      <td>F</td>\n",
       "      <td>Married</td>\n",
       "      <td>US Citizen</td>\n",
       "      <td>Voluntarily Terminated</td>\n",
       "      <td>Admin Offices</td>\n",
       "      <td>32406.02</td>\n",
       "      <td>40.0</td>\n",
       "      <td>Asian</td>\n",
       "    </tr>\n",
       "    <tr>\n",
       "      <th>...</th>\n",
       "      <td>...</td>\n",
       "      <td>...</td>\n",
       "      <td>...</td>\n",
       "      <td>...</td>\n",
       "      <td>...</td>\n",
       "      <td>...</td>\n",
       "      <td>...</td>\n",
       "      <td>...</td>\n",
       "      <td>...</td>\n",
       "      <td>...</td>\n",
       "    </tr>\n",
       "    <tr>\n",
       "      <th>304</th>\n",
       "      <td>Principal Data Architect</td>\n",
       "      <td>MA</td>\n",
       "      <td>F</td>\n",
       "      <td>Single</td>\n",
       "      <td>NaN</td>\n",
       "      <td>Voluntarily Terminated</td>\n",
       "      <td>IT/IS</td>\n",
       "      <td>24828.70</td>\n",
       "      <td>NaN</td>\n",
       "      <td>White</td>\n",
       "    </tr>\n",
       "    <tr>\n",
       "      <th>306</th>\n",
       "      <td>Sr. Network Engineer</td>\n",
       "      <td>MA</td>\n",
       "      <td>M</td>\n",
       "      <td>Married</td>\n",
       "      <td>US Citizen</td>\n",
       "      <td>Leave of Absence</td>\n",
       "      <td>IT/IS</td>\n",
       "      <td>27603.00</td>\n",
       "      <td>34.0</td>\n",
       "      <td>White</td>\n",
       "    </tr>\n",
       "    <tr>\n",
       "      <th>307</th>\n",
       "      <td>NaN</td>\n",
       "      <td>MA</td>\n",
       "      <td>M</td>\n",
       "      <td>Married</td>\n",
       "      <td>US Citizen</td>\n",
       "      <td>Future Start</td>\n",
       "      <td>IT/IS</td>\n",
       "      <td>27587.46</td>\n",
       "      <td>24.0</td>\n",
       "      <td>Asian</td>\n",
       "    </tr>\n",
       "    <tr>\n",
       "      <th>308</th>\n",
       "      <td>Sr. Network Engineer</td>\n",
       "      <td>CT</td>\n",
       "      <td>M</td>\n",
       "      <td>NaN</td>\n",
       "      <td>US Citizen</td>\n",
       "      <td>Active</td>\n",
       "      <td>IT/IS</td>\n",
       "      <td>12126.53</td>\n",
       "      <td>31.0</td>\n",
       "      <td>White</td>\n",
       "    </tr>\n",
       "    <tr>\n",
       "      <th>309</th>\n",
       "      <td>Sr. Network Engineer</td>\n",
       "      <td>MA</td>\n",
       "      <td>F</td>\n",
       "      <td>Widowed</td>\n",
       "      <td>US Citizen</td>\n",
       "      <td>Active</td>\n",
       "      <td>IT/IS</td>\n",
       "      <td>37257.00</td>\n",
       "      <td>46.0</td>\n",
       "      <td>Asian</td>\n",
       "    </tr>\n",
       "  </tbody>\n",
       "</table>\n",
       "<p>263 rows × 10 columns</p>\n",
       "</div>"
      ],
      "text/plain": [
       "                     Position State Sex MaritalDesc CitizenDesc  \\\n",
       "0                Accountant I   NaN   F     Married  US Citizen   \n",
       "1                Accountant I    MA  M     Divorced  US Citizen   \n",
       "2                Accountant I    MA  M       Single         NaN   \n",
       "3    Administrative Assistant    MA   F         NaN  US Citizen   \n",
       "5    Administrative Assistant    MA   F     Married  US Citizen   \n",
       "..                        ...   ...  ..         ...         ...   \n",
       "304  Principal Data Architect    MA   F      Single         NaN   \n",
       "306      Sr. Network Engineer    MA  M      Married  US Citizen   \n",
       "307                       NaN    MA  M      Married  US Citizen   \n",
       "308      Sr. Network Engineer    CT  M          NaN  US Citizen   \n",
       "309      Sr. Network Engineer    MA   F     Widowed  US Citizen   \n",
       "\n",
       "           EmploymentStatus     Department  Salaries   age  \\\n",
       "0                    Active  Admin Offices    674.28   NaN   \n",
       "1                    Active  Admin Offices    674.28  50.0   \n",
       "2                    Active  Admin Offices    674.28  43.0   \n",
       "3      Terminated for Cause  Admin Offices  47822.00  44.0   \n",
       "5    Voluntarily Terminated  Admin Offices  32406.02  40.0   \n",
       "..                      ...            ...       ...   ...   \n",
       "304  Voluntarily Terminated          IT/IS  24828.70   NaN   \n",
       "306        Leave of Absence          IT/IS  27603.00  34.0   \n",
       "307            Future Start          IT/IS  27587.46  24.0   \n",
       "308                  Active          IT/IS  12126.53  31.0   \n",
       "309                  Active          IT/IS  37257.00  46.0   \n",
       "\n",
       "                          Race  \n",
       "0    Black or African American  \n",
       "1    Black or African American  \n",
       "2                        White  \n",
       "3                          NaN  \n",
       "5                        Asian  \n",
       "..                         ...  \n",
       "304                      White  \n",
       "306                      White  \n",
       "307                      Asian  \n",
       "308                      White  \n",
       "309                      Asian  \n",
       "\n",
       "[263 rows x 10 columns]"
      ]
     },
     "execution_count": 6,
     "metadata": {},
     "output_type": "execute_result"
    }
   ],
   "source": [
    "filtered_data"
   ]
  },
  {
   "cell_type": "markdown",
   "id": "3e3a0725",
   "metadata": {},
   "source": [
    "2)\tSubtracting dates: \n",
    "Python date objects let us treat calendar dates as something like numbers: we can compare them, sort them, add, and even subtract them. Do the math with dates in a way that would be a pain to do by hand. The 2007 Florida hurricane season was one of the busiest on record, with 8 hurricanes in one year. The first one hit on May 9th, 2007, and the last one hit on December 13th, 2007. How many days elapsed between the first and last hurricane in 2007?\n",
    "\t\n",
    "    Instructions:\n",
    "\tImport date from datetime.\n",
    "\tCreate a date object for May 9th, 2007, and assign it to the start variable.\n",
    "\tCreate a date object for December 13th, 2007, and assign it to the end variable.\n",
    "\tSubtract start from end, to print the number of days in the resulting timedelta object.\n"
   ]
  },
  {
   "cell_type": "code",
   "execution_count": 7,
   "id": "3a9b9555",
   "metadata": {},
   "outputs": [],
   "source": [
    "from datetime import date,datetime,timedelta"
   ]
  },
  {
   "cell_type": "code",
   "execution_count": 8,
   "id": "7bbcaf13",
   "metadata": {},
   "outputs": [],
   "source": [
    "start=date(2007,5,9)\n",
    "end=date(2007,12,13)\n",
    "days_diff=end-start"
   ]
  },
  {
   "cell_type": "code",
   "execution_count": 9,
   "id": "ebdc025a",
   "metadata": {},
   "outputs": [
    {
     "name": "stdout",
     "output_type": "stream",
     "text": [
      "218\n"
     ]
    }
   ],
   "source": [
    "print(days_diff.days)"
   ]
  },
  {
   "cell_type": "markdown",
   "id": "85bbad28",
   "metadata": {},
   "source": [
    "3)\tRepresenting dates in different ways\n",
    "\n",
    "Date objects in Python have a great number of ways they can be printed out as strings. In some cases, you want to know the date in a clear, language-agnostic format. In other cases, you want something which can fit into a paragraph and flow naturally.\n",
    "\n",
    "Print out the same date, August 26, 1992 (the day that Hurricane Andrew made landfall in Florida), in a number of different ways, by using the “ .strftime() ” method. Store it in a variable called “Andrew”. \n",
    "\n",
    "Instructions: \t\n",
    "Print it in the format 'YYYY-MM', 'YYYY-DDD', and 'MONTH (YYYY)'\n"
   ]
  },
  {
   "cell_type": "code",
   "execution_count": 10,
   "id": "aabb420f",
   "metadata": {},
   "outputs": [
    {
     "name": "stdout",
     "output_type": "stream",
     "text": [
      "1992-08\n"
     ]
    }
   ],
   "source": [
    "Andrew=date(1992,8,26)\n",
    "print(Andrew.strftime(\"%Y-%m\"))"
   ]
  },
  {
   "cell_type": "code",
   "execution_count": 11,
   "id": "658b44b8",
   "metadata": {},
   "outputs": [
    {
     "name": "stdout",
     "output_type": "stream",
     "text": [
      "1992-239\n"
     ]
    }
   ],
   "source": [
    "print(Andrew.strftime(\"%Y-%j\"))"
   ]
  },
  {
   "cell_type": "code",
   "execution_count": 12,
   "id": "9550eaf4",
   "metadata": {},
   "outputs": [
    {
     "name": "stdout",
     "output_type": "stream",
     "text": [
      "August (1992)\n"
     ]
    }
   ],
   "source": [
    "print(Andrew.strftime(\"%B (%Y)\"))"
   ]
  },
  {
   "cell_type": "markdown",
   "id": "9f5009de",
   "metadata": {},
   "source": [
    "4)For the dataset “Indian_cities”, \n",
    "   \n",
    "    a)\tFind out the top 10 states in female-male sex ratio.\n",
    "    b)\tFind out the top 10 cities in the total number of graduates.\n",
    "    c)\tFind out the top 10 cities and their locations in respect of total ‘effective_literacy_rate’.\n",
    "\n"
   ]
  },
  {
   "cell_type": "code",
   "execution_count": 13,
   "id": "43d09564",
   "metadata": {},
   "outputs": [
    {
     "name": "stdout",
     "output_type": "stream",
     "text": [
      "        KERALA\n",
      "      MANIPUR \n",
      "     MEGHALAYA\n",
      "    PUDUCHERRY\n",
      "       MIZORAM\n",
      "       TRIPURA\n",
      "    TAMIL NADU\n",
      "ANDHRA PRADESH\n",
      "     KARNATAKA\n",
      "         ASSAM\n"
     ]
    }
   ],
   "source": [
    "data=pd.read_csv(\"Indian_cities.csv\")\n",
    "grouped_data=data.groupby(\"state_name\")[\"sex_ratio\"].mean().reset_index()\n",
    "sorted_data=grouped_data.sort_values(\"sex_ratio\",ascending=False)\n",
    "topstates=sorted_data[\"state_name\"].head(10)\n",
    "print(topstates.to_string(index=False))"
   ]
  },
  {
   "cell_type": "code",
   "execution_count": 14,
   "id": "3ba9825f",
   "metadata": {},
   "outputs": [
    {
     "data": {
      "text/html": [
       "<div>\n",
       "<style scoped>\n",
       "    .dataframe tbody tr th:only-of-type {\n",
       "        vertical-align: middle;\n",
       "    }\n",
       "\n",
       "    .dataframe tbody tr th {\n",
       "        vertical-align: top;\n",
       "    }\n",
       "\n",
       "    .dataframe thead th {\n",
       "        text-align: right;\n",
       "    }\n",
       "</style>\n",
       "<table border=\"1\" class=\"dataframe\">\n",
       "  <thead>\n",
       "    <tr style=\"text-align: right;\">\n",
       "      <th></th>\n",
       "      <th>state_name</th>\n",
       "      <th>sex_ratio</th>\n",
       "    </tr>\n",
       "  </thead>\n",
       "  <tbody>\n",
       "    <tr>\n",
       "      <th>12</th>\n",
       "      <td>KERALA</td>\n",
       "      <td>1066.714286</td>\n",
       "    </tr>\n",
       "    <tr>\n",
       "      <th>15</th>\n",
       "      <td>MANIPUR</td>\n",
       "      <td>1055.000000</td>\n",
       "    </tr>\n",
       "    <tr>\n",
       "      <th>16</th>\n",
       "      <td>MEGHALAYA</td>\n",
       "      <td>1042.000000</td>\n",
       "    </tr>\n",
       "    <tr>\n",
       "      <th>21</th>\n",
       "      <td>PUDUCHERRY</td>\n",
       "      <td>1035.000000</td>\n",
       "    </tr>\n",
       "    <tr>\n",
       "      <th>17</th>\n",
       "      <td>MIZORAM</td>\n",
       "      <td>1029.000000</td>\n",
       "    </tr>\n",
       "    <tr>\n",
       "      <th>25</th>\n",
       "      <td>TRIPURA</td>\n",
       "      <td>1002.000000</td>\n",
       "    </tr>\n",
       "    <tr>\n",
       "      <th>24</th>\n",
       "      <td>TAMIL NADU</td>\n",
       "      <td>1001.031250</td>\n",
       "    </tr>\n",
       "    <tr>\n",
       "      <th>1</th>\n",
       "      <td>ANDHRA PRADESH</td>\n",
       "      <td>999.404762</td>\n",
       "    </tr>\n",
       "    <tr>\n",
       "      <th>11</th>\n",
       "      <td>KARNATAKA</td>\n",
       "      <td>987.115385</td>\n",
       "    </tr>\n",
       "    <tr>\n",
       "      <th>2</th>\n",
       "      <td>ASSAM</td>\n",
       "      <td>950.750000</td>\n",
       "    </tr>\n",
       "    <tr>\n",
       "      <th>5</th>\n",
       "      <td>CHHATTISGARH</td>\n",
       "      <td>950.222222</td>\n",
       "    </tr>\n",
       "    <tr>\n",
       "      <th>28</th>\n",
       "      <td>WEST BENGAL</td>\n",
       "      <td>943.262295</td>\n",
       "    </tr>\n",
       "    <tr>\n",
       "      <th>20</th>\n",
       "      <td>ORISSA</td>\n",
       "      <td>930.300000</td>\n",
       "    </tr>\n",
       "    <tr>\n",
       "      <th>14</th>\n",
       "      <td>MAHARASHTRA</td>\n",
       "      <td>920.511628</td>\n",
       "    </tr>\n",
       "    <tr>\n",
       "      <th>13</th>\n",
       "      <td>MADHYA PRADESH</td>\n",
       "      <td>914.812500</td>\n",
       "    </tr>\n",
       "    <tr>\n",
       "      <th>6</th>\n",
       "      <td>GUJARAT</td>\n",
       "      <td>913.172414</td>\n",
       "    </tr>\n",
       "    <tr>\n",
       "      <th>23</th>\n",
       "      <td>RAJASTHAN</td>\n",
       "      <td>908.517241</td>\n",
       "    </tr>\n",
       "    <tr>\n",
       "      <th>9</th>\n",
       "      <td>JAMMU &amp; KASHMIR</td>\n",
       "      <td>907.666667</td>\n",
       "    </tr>\n",
       "    <tr>\n",
       "      <th>18</th>\n",
       "      <td>NAGALAND</td>\n",
       "      <td>904.000000</td>\n",
       "    </tr>\n",
       "    <tr>\n",
       "      <th>10</th>\n",
       "      <td>JHARKHAND</td>\n",
       "      <td>903.000000</td>\n",
       "    </tr>\n",
       "    <tr>\n",
       "      <th>27</th>\n",
       "      <td>UTTARAKHAND</td>\n",
       "      <td>892.333333</td>\n",
       "    </tr>\n",
       "    <tr>\n",
       "      <th>26</th>\n",
       "      <td>UTTAR PRADESH</td>\n",
       "      <td>891.285714</td>\n",
       "    </tr>\n",
       "    <tr>\n",
       "      <th>0</th>\n",
       "      <td>ANDAMAN &amp; NICOBAR ISLANDS</td>\n",
       "      <td>889.000000</td>\n",
       "    </tr>\n",
       "    <tr>\n",
       "      <th>3</th>\n",
       "      <td>BIHAR</td>\n",
       "      <td>887.884615</td>\n",
       "    </tr>\n",
       "    <tr>\n",
       "      <th>22</th>\n",
       "      <td>PUNJAB</td>\n",
       "      <td>887.062500</td>\n",
       "    </tr>\n",
       "    <tr>\n",
       "      <th>7</th>\n",
       "      <td>HARYANA</td>\n",
       "      <td>875.800000</td>\n",
       "    </tr>\n",
       "    <tr>\n",
       "      <th>19</th>\n",
       "      <td>NCT OF DELHI</td>\n",
       "      <td>861.533333</td>\n",
       "    </tr>\n",
       "    <tr>\n",
       "      <th>4</th>\n",
       "      <td>CHANDIGARH</td>\n",
       "      <td>829.000000</td>\n",
       "    </tr>\n",
       "    <tr>\n",
       "      <th>8</th>\n",
       "      <td>HIMACHAL PRADESH</td>\n",
       "      <td>818.000000</td>\n",
       "    </tr>\n",
       "  </tbody>\n",
       "</table>\n",
       "</div>"
      ],
      "text/plain": [
       "                   state_name    sex_ratio\n",
       "12                     KERALA  1066.714286\n",
       "15                   MANIPUR   1055.000000\n",
       "16                  MEGHALAYA  1042.000000\n",
       "21                 PUDUCHERRY  1035.000000\n",
       "17                    MIZORAM  1029.000000\n",
       "25                    TRIPURA  1002.000000\n",
       "24                 TAMIL NADU  1001.031250\n",
       "1              ANDHRA PRADESH   999.404762\n",
       "11                  KARNATAKA   987.115385\n",
       "2                       ASSAM   950.750000\n",
       "5                CHHATTISGARH   950.222222\n",
       "28                WEST BENGAL   943.262295\n",
       "20                     ORISSA   930.300000\n",
       "14                MAHARASHTRA   920.511628\n",
       "13             MADHYA PRADESH   914.812500\n",
       "6                     GUJARAT   913.172414\n",
       "23                  RAJASTHAN   908.517241\n",
       "9             JAMMU & KASHMIR   907.666667\n",
       "18                   NAGALAND   904.000000\n",
       "10                  JHARKHAND   903.000000\n",
       "27                UTTARAKHAND   892.333333\n",
       "26              UTTAR PRADESH   891.285714\n",
       "0   ANDAMAN & NICOBAR ISLANDS   889.000000\n",
       "3                       BIHAR   887.884615\n",
       "22                     PUNJAB   887.062500\n",
       "7                     HARYANA   875.800000\n",
       "19               NCT OF DELHI   861.533333\n",
       "4                  CHANDIGARH   829.000000\n",
       "8            HIMACHAL PRADESH   818.000000"
      ]
     },
     "execution_count": 14,
     "metadata": {},
     "output_type": "execute_result"
    }
   ],
   "source": [
    "sorted_data"
   ]
  },
  {
   "cell_type": "code",
   "execution_count": 15,
   "id": "21ddbdd3",
   "metadata": {},
   "outputs": [
    {
     "name": "stdout",
     "output_type": "stream",
     "text": [
      "            Delhi \n",
      "   Greater Mumbai \n",
      "         Bengaluru\n",
      "Greater Hyderabad \n",
      "          Chennai \n",
      "          Kolkata \n",
      "        Ahmadabad \n",
      "             Pune \n",
      "          Lucknow \n",
      "           Jaipur \n"
     ]
    }
   ],
   "source": [
    "data2=data.sort_values(\"total_graduates\",ascending=False)\n",
    "topcities=data2[\"name_of_city\"].head(10)\n",
    "print(topcities.to_string(index=False))"
   ]
  },
  {
   "cell_type": "code",
   "execution_count": 16,
   "id": "e59e91db",
   "metadata": {},
   "outputs": [
    {
     "name": "stdout",
     "output_type": "stream",
     "text": [
      "     name_of_city       state_name  effective_literacy_rate_total\n",
      "          Aizawl           MIZORAM                          98.80\n",
      "           Kochi            KERALA                          97.49\n",
      "        Thrissur            KERALA                          97.24\n",
      "       Kozhikode            KERALA                          96.80\n",
      "       Alappuzha            KERALA                          96.56\n",
      "        Khardaha       WEST BENGAL                          95.50\n",
      "       Nagercoil        TAMIL NADU                          95.35\n",
      "         Alandur        TAMIL NADU                          95.15\n",
      "North Barrackpur       WEST BENGAL                          94.78\n",
      "          Shimla  HIMACHAL PRADESH                          94.67\n"
     ]
    }
   ],
   "source": [
    "data3=data.sort_values(\"effective_literacy_rate_total\",ascending=False)\n",
    "topcities2=data3[[\"name_of_city\",\"state_name\",\"effective_literacy_rate_total\"]].head(10)\n",
    "print(topcities2.to_string(index=False))\n"
   ]
  },
  {
   "cell_type": "markdown",
   "id": "b378337a",
   "metadata": {},
   "source": [
    "5)For the data set “Indian_cities”\n",
    "    \n",
    "    a)\tConstruct a histogram on ‘literates_total’ and comment on the inferences.\n",
    "    b)\tConstruct a scatter plot between male graduates and female graduates.\n"
   ]
  },
  {
   "cell_type": "code",
   "execution_count": 18,
   "id": "a2eb4ba3",
   "metadata": {},
   "outputs": [
    {
     "data": {
      "image/png": "[encoded data removed]",
      "text/plain": [
       "<Figure size 640x480 with 1 Axes>"
      ]
     },
     "metadata": {},
     "output_type": "display_data"
    }
   ],
   "source": [
    "import matplotlib.pyplot as plt\n",
    "import pandas as pd\n",
    "df=pd.read_csv(\"Indian_cities.csv\")\n",
    "plt.hist(df['literates_total'],bins=100,edgecolor='black')\n",
    "plt.xlabel(\"Total Literates\")\n",
    "plt.ylabel(\"Fraquency\")\n",
    "plt.title(\"Histogram of Total literates in indian cities\")\n",
    "plt.show()"
   ]
  },
  {
   "cell_type": "markdown",
   "id": "0435dddb",
   "metadata": {},
   "source": [
    "As the distribution of values is positively skewed - that means most of the cities have very low literates....and some unusual cities with very high literates that can be the hub of education. Majority of cities have very low literate popolation and forms acluster towards left"
   ]
  },
  {
   "cell_type": "code",
   "execution_count": 19,
   "id": "341097d8",
   "metadata": {},
   "outputs": [
    {
     "data": {
      "image/png": "[encoded data removed]",
      "text/plain": [
       "<Figure size 640x480 with 1 Axes>"
      ]
     },
     "metadata": {},
     "output_type": "display_data"
    }
   ],
   "source": [
    "plt.scatter(df['male_graduates'],df['female_graduates'])\n",
    "plt.xlabel(\"Male Graduates\")\n",
    "plt.ylabel(\"Female Graduates\")\n",
    "plt.show()"
   ]
  },
  {
   "cell_type": "markdown",
   "id": "a4095b11",
   "metadata": {},
   "source": [
    "the datapoints in the above scatter plot represents strong positive correlation..each datapoint represents a city....the outcome replresents that the number of male graduates is directly proportional to the number of female graduates..that means there is a positive linear relationship between male and female graduates implies that both genders are similarly affected by educational opportunities "
   ]
  },
  {
   "cell_type": "markdown",
   "id": "e4630a44",
   "metadata": {},
   "source": [
    "6)For the data set “Indian_cities”\n",
    "    \n",
    "    a)\tConstruct Boxplot on the total effective literacy rate and draw inferences.\n",
    "    b)\tFind out the number of null values in each column of the dataset and delete them.\n"
   ]
  },
  {
   "cell_type": "code",
   "execution_count": 21,
   "id": "b613c54c",
   "metadata": {},
   "outputs": [
    {
     "name": "stderr",
     "output_type": "stream",
     "text": [
      "C:\\Users\\LENOVO\\anaconda3\\lib\\site-packages\\seaborn\\_decorators.py:36: FutureWarning: Pass the following variable as a keyword arg: x. From version 0.12, the only valid positional argument will be `data`, and passing other arguments without an explicit keyword will result in an error or misinterpretation.\n",
      "  warnings.warn(\n"
     ]
    },
    {
     "data": {
      "text/plain": [
       "<AxesSubplot:xlabel='effective_literacy_rate_total'>"
      ]
     },
     "execution_count": 21,
     "metadata": {},
     "output_type": "execute_result"
    },
    {
     "data": {
      "image/png": "[encoded data removed]",
      "text/plain": [
       "<Figure size 640x480 with 1 Axes>"
      ]
     },
     "metadata": {},
     "output_type": "display_data"
    }
   ],
   "source": [
    "df=pd.read_csv(\"Indian_cities.csv\")\n",
    "import seaborn as sns\n",
    "sns.boxplot(df.effective_literacy_rate_total)"
   ]
  },
  {
   "cell_type": "code",
   "execution_count": 23,
   "id": "317721ca",
   "metadata": {},
   "outputs": [],
   "source": [
    "\n",
    "Q1 = np.percentile(df.effective_literacy_rate_total, 25)\n",
    "Q3 = np.percentile(df.effective_literacy_rate_total, 75)\n",
    "\n",
    "# Calculate the interquartile range (IQR)\n",
    "IQR = Q3 - Q1\n",
    "\n",
    "# Define the lower and upper bounds to identify outliers\n",
    "lower_bound = Q1 - 1.5 * IQR\n",
    "upper_bound = Q3 + 1.5 * IQR\n",
    "\n",
    "# Count the number of outliers\n",
    "outliers = [x for x in df.effective_literacy_rate_total if x < lower_bound or x > upper_bound]\n",
    "num_outliers = len(outliers)\n",
    "\n"
   ]
  },
  {
   "cell_type": "code",
   "execution_count": 25,
   "id": "f1122268",
   "metadata": {},
   "outputs": [
    {
     "name": "stdout",
     "output_type": "stream",
     "text": [
      "Number of outliers: 13\n",
      "Percentage of outliers: 2.636916835699797 %\n"
     ]
    }
   ],
   "source": [
    "# Calculate the percentage of outliers\n",
    "percentage_outliers = (num_outliers / len(df.effective_literacy_rate_total)) * 100\n",
    "\n",
    "print(\"Number of outliers:\", num_outliers)\n",
    "print(\"Percentage of outliers:\", percentage_outliers, \"%\")\n"
   ]
  },
  {
   "cell_type": "markdown",
   "id": "461362bf",
   "metadata": {},
   "source": [
    "from the above outcome we conlude that our data have 13 outliers or 2.63 percentage of outliers which is neglectable...there are some cities in the dataset with significantly higher or lower effective literacy rates compared to the majority of cities. These cities can be considered as exceptional cases ."
   ]
  },
  {
   "cell_type": "code",
   "execution_count": 27,
   "id": "abb21f96",
   "metadata": {},
   "outputs": [
    {
     "name": "stdout",
     "output_type": "stream",
     "text": [
      "Number of null values in each column:\n",
      "name_of_city                      0\n",
      "state_code                        0\n",
      "state_name                        0\n",
      "dist_code                         0\n",
      "population_total                  0\n",
      "population_male                   0\n",
      "population_female                 0\n",
      "0-6_population_total              0\n",
      "0-6_population_male               0\n",
      "0-6_population_female             0\n",
      "literates_total                   0\n",
      "literates_male                    0\n",
      "literates_female                  0\n",
      "sex_ratio                         0\n",
      "child_sex_ratio                   0\n",
      "effective_literacy_rate_total     0\n",
      "effective_literacy_rate_male      0\n",
      "effective_literacy_rate_female    0\n",
      "location                          0\n",
      "total_graduates                   0\n",
      "male_graduates                    0\n",
      "female_graduates                  0\n",
      "dtype: int64\n"
     ]
    }
   ],
   "source": [
    "# Find the number of null values in each column\n",
    "null_counts = df.isnull().sum()\n",
    "print(\"Number of null values in each column:\")\n",
    "print(null_counts)\n",
    "df = df.dropna()\n",
    "#resetting index\n",
    "df.reset_index(drop=True, inplace=True)\n"
   ]
  },
  {
   "cell_type": "code",
   "execution_count": null,
   "id": "fe8c8662",
   "metadata": {},
   "outputs": [],
   "source": []
  }
 ],
 "metadata": {
  "kernelspec": {
   "display_name": "Python 3 (ipykernel)",
   "language": "python",
   "name": "python3"
  },
  "language_info": {
   "codemirror_mode": {
    "name": "ipython",
    "version": 3
   },
   "file_extension": ".py",
   "mimetype": "text/x-python",
   "name": "python",
   "nbconvert_exporter": "python",
   "pygments_lexer": "ipython3",
   "version": "3.9.13"
  }
 },
 "nbformat": 4,
 "nbformat_minor": 5
}
