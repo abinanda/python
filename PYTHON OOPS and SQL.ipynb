{
 "cells": [
  {
   "cell_type": "markdown",
   "id": "91e4b18e",
   "metadata": {},
   "source": [
    "### Defining Classes and Instantiating Objects:"
   ]
  },
  {
   "cell_type": "code",
   "execution_count": 1,
   "id": "728383d7",
   "metadata": {},
   "outputs": [],
   "source": [
    "class Car:\n",
    "    def __init__(self, brand, model):\n",
    "        self.brand = brand\n",
    "        self.model = model\n",
    "\n",
    "    def display_info(self):\n",
    "        print(f\"Car: {self.brand} {self.model}\")\n",
    "\n",
    "# Creating objects of the Car class\n",
    "car1 = Car(\"Toyota\", \"Camry\")\n",
    "car2 = Car(\"Honda\", \"Accord\")\n"
   ]
  },
  {
   "cell_type": "code",
   "execution_count": 2,
   "id": "ebdaf3f1",
   "metadata": {},
   "outputs": [
    {
     "name": "stdout",
     "output_type": "stream",
     "text": [
      "Car: Toyota Camry\n",
      "Car: Honda Accord\n"
     ]
    }
   ],
   "source": [
    "\n",
    "# Calling instance method on the objects\n",
    "car1.display_info()\n",
    "car2.display_info()\n"
   ]
  },
  {
   "cell_type": "markdown",
   "id": "21283cd0",
   "metadata": {},
   "source": [
    "### Using Instance Methods:\n"
   ]
  },
  {
   "cell_type": "code",
   "execution_count": 3,
   "id": "ef2261fe",
   "metadata": {},
   "outputs": [],
   "source": [
    "class Circle:\n",
    "    def __init__(self, radius):\n",
    "        self.radius = radius\n",
    "\n",
    "    def calculate_area(self):\n",
    "        return 3.14 * self.radius ** 2\n",
    "\n",
    "# Creating an object of the Circle class\n",
    "circle = Circle(5)"
   ]
  },
  {
   "cell_type": "code",
   "execution_count": 4,
   "id": "ef84f504",
   "metadata": {},
   "outputs": [
    {
     "name": "stdout",
     "output_type": "stream",
     "text": [
      "Area of the circle: 78.5\n"
     ]
    }
   ],
   "source": [
    "# Calling instance method on the object\n",
    "area = circle.calculate_area()\n",
    "print(f\"Area of the circle: {area}\")\n"
   ]
  },
  {
   "cell_type": "markdown",
   "id": "78d7b459",
   "metadata": {},
   "source": [
    "### Using Static Methods:"
   ]
  },
  {
   "cell_type": "code",
   "execution_count": 5,
   "id": "11a567f0",
   "metadata": {},
   "outputs": [
    {
     "name": "stdout",
     "output_type": "stream",
     "text": [
      "Sum: 8\n",
      "Product: 8\n"
     ]
    }
   ],
   "source": [
    "class MathUtils:\n",
    "    @staticmethod\n",
    "    def add_numbers(x, y):\n",
    "        return x + y\n",
    "\n",
    "    @staticmethod\n",
    "    def multiply_numbers(x, y):\n",
    "        return x * y\n",
    "\n",
    "# Calling static methods directly on the class\n",
    "sum_result = MathUtils.add_numbers(5, 3)\n",
    "product_result = MathUtils.multiply_numbers(4, 2)\n",
    "\n",
    "print(f\"Sum: {sum_result}\")\n",
    "print(f\"Product: {product_result}\")\n"
   ]
  },
  {
   "cell_type": "markdown",
   "id": "b0d98c7e",
   "metadata": {},
   "source": [
    "### Inheritance:"
   ]
  },
  {
   "cell_type": "code",
   "execution_count": 21,
   "id": "1c93c746",
   "metadata": {},
   "outputs": [],
   "source": [
    "class Animal:\n",
    "    def __init__(self, name):\n",
    "        self.name = name\n",
    "\n",
    "    def speak(self):\n",
    "        raise NotImplementedError(\"Subclass must implement this method\")\n",
    "\n",
    "class Dog(Animal):\n",
    "    def speak(self):\n",
    "        return \"Woof!\"\n",
    "\n",
    "class Cat(Animal):\n",
    "    def speak(self):\n",
    "        return \"Meow!\""
   ]
  },
  {
   "cell_type": "code",
   "execution_count": 22,
   "id": "c61cbab5",
   "metadata": {},
   "outputs": [
    {
     "name": "stdout",
     "output_type": "stream",
     "text": [
      "Woof!\n",
      "Meow!\n"
     ]
    }
   ],
   "source": [
    "# Creating objects of derived classes\n",
    "dog = Dog(\"dog\")\n",
    "cat = Cat(\"cat\")\n",
    "\n",
    "# Calling the overridden method\n",
    "print(dog.speak())\n",
    "print(cat.speak())\n"
   ]
  },
  {
   "cell_type": "code",
   "execution_count": 13,
   "id": "6ede7334",
   "metadata": {},
   "outputs": [
    {
     "name": "stdout",
     "output_type": "stream",
     "text": [
      "Brand: Toyota\n",
      "Model: Camry\n",
      "Honk! Honk!\n",
      "Brand: Honda\n",
      "Model: CBR\n",
      "Performing a wheelie!\n"
     ]
    }
   ],
   "source": [
    "class Vehicle:\n",
    "    def __init__(self, brand, model):\n",
    "        self.brand = brand\n",
    "        self.model = model\n",
    "\n",
    "    def display_info(self):\n",
    "        print(f\"Brand: {self.brand}\\nModel: {self.model}\")\n",
    "\n",
    "class Car(Vehicle):\n",
    "    def __init__(self, brand, model, color):\n",
    "        super().__init__(brand, model)\n",
    "        self.color = color\n",
    "\n",
    "    def honk(self):\n",
    "        print(\"Honk! Honk!\")\n",
    "\n",
    "class Motorcycle(Vehicle):\n",
    "    def __init__(self, brand, model, max_speed):\n",
    "        super().__init__(brand, model)\n",
    "        self.max_speed = max_speed\n",
    "\n",
    "    def wheelie(self):\n",
    "        print(\"Performing a wheelie!\")\n",
    "\n",
    "car = Car(\"Toyota\", \"Camry\", \"Red\")\n",
    "motorcycle = Motorcycle(\"Honda\", \"CBR\", 300)\n",
    "\n",
    "car.display_info()\n",
    "car.honk()\n",
    "\n",
    "motorcycle.display_info()\n",
    "motorcycle.wheelie()\n"
   ]
  },
  {
   "cell_type": "markdown",
   "id": "88f31413",
   "metadata": {},
   "source": [
    "### Using Properties:"
   ]
  },
  {
   "cell_type": "code",
   "execution_count": 10,
   "id": "23a6431e",
   "metadata": {},
   "outputs": [],
   "source": [
    "class Rectangle:\n",
    "    def __init__(self, width, height):\n",
    "        self._width = width\n",
    "        self._height = height\n",
    "\n",
    "    @property\n",
    "    def width(self):\n",
    "        return self._width\n",
    "\n",
    "    @property\n",
    "    def height(self):\n",
    "        return self._height\n",
    "\n",
    "    @width.setter\n",
    "    def width(self, value):\n",
    "        if value > 0:\n",
    "            self._width = value\n",
    "\n",
    "    @height.setter\n",
    "    def height(self, value):\n",
    "        if value > 0:\n",
    "            self._height = value\n"
   ]
  },
  {
   "cell_type": "code",
   "execution_count": 11,
   "id": "45c8001e",
   "metadata": {},
   "outputs": [
    {
     "name": "stdout",
     "output_type": "stream",
     "text": [
      "5\n",
      "3\n"
     ]
    }
   ],
   "source": [
    "# Creating an object of the Rectangle class\n",
    "rectangle = Rectangle(5, 3)\n",
    "\n",
    "# Accessing properties\n",
    "print(rectangle.width)  # Output: 5\n",
    "print(rectangle.height)  # Output: 3\n"
   ]
  },
  {
   "cell_type": "code",
   "execution_count": 12,
   "id": "bac62f62",
   "metadata": {},
   "outputs": [
    {
     "name": "stdout",
     "output_type": "stream",
     "text": [
      "8\n",
      "4\n"
     ]
    }
   ],
   "source": [
    "# Modifying properties using setters\n",
    "rectangle.width = 8\n",
    "rectangle.height = 4\n",
    "\n",
    "print(rectangle.width)  # Output: 8\n",
    "print(rectangle.height)  # Output: 4\n"
   ]
  },
  {
   "cell_type": "markdown",
   "id": "380bda66",
   "metadata": {},
   "source": [
    "## Abstraction:"
   ]
  },
  {
   "cell_type": "markdown",
   "id": "1d3e7633",
   "metadata": {},
   "source": [
    "Abstraction refers to the process of hiding unnecessary details and exposing only essential features of an object. It allows us to work with complex systems by simplifying their representation. In Python, we can achieve abstraction using abstract classes or interfaces."
   ]
  },
  {
   "cell_type": "code",
   "execution_count": 17,
   "id": "57789c5b",
   "metadata": {},
   "outputs": [
    {
     "name": "stdout",
     "output_type": "stream",
     "text": [
      "Woof!\n",
      "Meow!\n"
     ]
    }
   ],
   "source": [
    "from abc import ABC, abstractmethod\n",
    "\n",
    "class Animal(ABC):\n",
    "    @abstractmethod\n",
    "    def speak(self):\n",
    "        print(\"woof!\")\n",
    "    \n",
    "\n",
    "class Dog(Animal):\n",
    "    def speak(self):\n",
    "        print(\"Woof!\")\n",
    "\n",
    "class Cat(Animal):\n",
    "    def speak(self):\n",
    "        print(\"Meow!\")\n",
    "\n",
    "dog = Dog()\n",
    "cat = Cat()\n",
    "\n",
    "dog.speak()  # Output: Woof!\n",
    "cat.speak()  # Output: Meow!\n"
   ]
  },
  {
   "cell_type": "markdown",
   "id": "d70430cb",
   "metadata": {},
   "source": [
    "### Encapsulation:\n",
    "\n",
    "Encapsulation refers to the bundling of data and methods together into a single unit, known as a class. It ensures that the data is accessed and modified only through the defined methods, thereby providing data protection."
   ]
  },
  {
   "cell_type": "code",
   "execution_count": 18,
   "id": "bbe7acde",
   "metadata": {},
   "outputs": [
    {
     "name": "stdout",
     "output_type": "stream",
     "text": [
      "1300\n"
     ]
    }
   ],
   "source": [
    "class BankAccount:\n",
    "    def __init__(self, account_number, balance):\n",
    "        self._account_number = account_number\n",
    "        self._balance = balance\n",
    "\n",
    "    def deposit(self, amount):\n",
    "        self._balance += amount\n",
    "\n",
    "    def withdraw(self, amount):\n",
    "        if amount <= self._balance:\n",
    "            self._balance -= amount\n",
    "        else:\n",
    "            print(\"Insufficient balance\")\n",
    "\n",
    "    def get_balance(self):\n",
    "        return self._balance\n",
    "\n",
    "account = BankAccount(\"1234567890\", 1000)\n",
    "account.deposit(500)\n",
    "account.withdraw(200)\n",
    "print(account.get_balance())  # Output: 1300\n"
   ]
  },
  {
   "cell_type": "markdown",
   "id": "1fc675c3",
   "metadata": {},
   "source": [
    "### Inheritance:\n",
    "\n",
    "Inheritance is a mechanism that allows a class to inherit properties and behaviors from a parent class, also known as a base class or superclass. It promotes code reusability and supports the creation of a hierarchical class structure."
   ]
  },
  {
   "cell_type": "code",
   "execution_count": 19,
   "id": "1ef5dc9f",
   "metadata": {},
   "outputs": [
    {
     "name": "stdout",
     "output_type": "stream",
     "text": [
      "Brand: Toyota\n",
      "Model: Camry\n"
     ]
    }
   ],
   "source": [
    "class Vehicle:\n",
    "    def __init__(self, brand):\n",
    "        self.brand = brand\n",
    "\n",
    "    def display_info(self):\n",
    "        print(f\"Brand: {self.brand}\")\n",
    "\n",
    "class Car(Vehicle):\n",
    "    def __init__(self, brand, model):\n",
    "        super().__init__(brand)\n",
    "        self.model = model\n",
    "\n",
    "    def display_info(self):\n",
    "        super().display_info()\n",
    "        print(f\"Model: {self.model}\")\n",
    "\n",
    "car = Car(\"Toyota\", \"Camry\")\n",
    "car.display_info()\n"
   ]
  },
  {
   "cell_type": "markdown",
   "id": "7005cd70",
   "metadata": {},
   "source": [
    "### Polymorphism:\n",
    "\n",
    "\n",
    "Polymorphism allows objects of different classes to be treated as instances of a common superclass. It enables methods to be called on objects without knowing their specific types, providing flexibility and extensibility"
   ]
  },
  {
   "cell_type": "code",
   "execution_count": 20,
   "id": "3caa89ea",
   "metadata": {},
   "outputs": [
    {
     "name": "stdout",
     "output_type": "stream",
     "text": [
      "Woof!\n",
      "Meow!\n",
      "Quack!\n"
     ]
    }
   ],
   "source": [
    "class Animal:\n",
    "    def make_sound(self):\n",
    "        pass\n",
    "\n",
    "class Dog(Animal):\n",
    "    def make_sound(self):\n",
    "        print(\"Woof!\")\n",
    "\n",
    "class Cat(Animal):\n",
    "    def make_sound(self):\n",
    "        print(\"Meow!\")\n",
    "\n",
    "class Duck(Animal):\n",
    "    def make_sound(self):\n",
    "        print(\"Quack!\")\n",
    "\n",
    "# Polymorphic function\n",
    "def animal_sounds(animal):\n",
    "    animal.make_sound()\n",
    "\n",
    "# Creating objects of different classes\n",
    "dog = Dog()\n",
    "cat = Cat()\n",
    "duck = Duck()\n",
    "\n",
    "# Calling the polymorphic function with different objects\n",
    "animal_sounds(dog)  # Output: Woof!\n",
    "animal_sounds(cat)  # Output: Meow!\n",
    "animal_sounds(duck)  # Output: Quack!\n"
   ]
  },
  {
   "cell_type": "markdown",
   "id": "0c254d15",
   "metadata": {},
   "source": [
    "# PYTHON MySQL CONNECTOR"
   ]
  },
  {
   "cell_type": "code",
   "execution_count": 1,
   "id": "c08edf85",
   "metadata": {},
   "outputs": [],
   "source": [
    "import mysql.connector"
   ]
  },
  {
   "cell_type": "code",
   "execution_count": 2,
   "id": "814c355a",
   "metadata": {
    "scrolled": true
   },
   "outputs": [],
   "source": [
    "cnxn=mysql.connector.connect(user='root',password='Maxima1!',host='127.0.0.1',database='mysql')"
   ]
  },
  {
   "cell_type": "code",
   "execution_count": 4,
   "id": "8f294756",
   "metadata": {},
   "outputs": [],
   "source": [
    "cnxn.close()"
   ]
  },
  {
   "cell_type": "markdown",
   "id": "2819b831",
   "metadata": {},
   "source": [
    "### The parameters in the MySQLConnection constructor can be passed as variable length arguments also."
   ]
  },
  {
   "cell_type": "code",
   "execution_count": 14,
   "id": "69f9cf7b",
   "metadata": {},
   "outputs": [],
   "source": [
    "kwargs={'user':'root','password':'Maxima1!','host':'127.0.0.1','database':'mysql'}"
   ]
  },
  {
   "cell_type": "code",
   "execution_count": 15,
   "id": "d08b011a",
   "metadata": {},
   "outputs": [],
   "source": [
    "cnx=mysql.connector.connect(**kwargs)"
   ]
  },
  {
   "cell_type": "code",
   "execution_count": 16,
   "id": "de67f4fa",
   "metadata": {},
   "outputs": [
    {
     "data": {
      "text/plain": [
       "True"
      ]
     },
     "execution_count": 16,
     "metadata": {},
     "output_type": "execute_result"
    }
   ],
   "source": [
    "cnx.is_connected()"
   ]
  },
  {
   "cell_type": "code",
   "execution_count": 17,
   "id": "d5253994",
   "metadata": {},
   "outputs": [],
   "source": [
    "cnx.close()"
   ]
  },
  {
   "cell_type": "code",
   "execution_count": 18,
   "id": "eb2ce9fc",
   "metadata": {},
   "outputs": [],
   "source": [
    "#As the third step , we need to check if the connection to the MySQL database has been established successfully by  using the is_connected() method. In case of an exception such as  MySQL server  not available, the database does not exist or invalid user name or password, Python will raise an exception. \n",
    "#The  try and except block handles the exception and displays the error. "
   ]
  },
  {
   "cell_type": "code",
   "execution_count": 19,
   "id": "4cb796b0",
   "metadata": {},
   "outputs": [],
   "source": [
    "import mysql.connector\n",
    "from mysql.connector import errorcode"
   ]
  },
  {
   "cell_type": "code",
   "execution_count": 23,
   "id": "95c3b0de",
   "metadata": {},
   "outputs": [
    {
     "name": "stdout",
     "output_type": "stream",
     "text": [
      "ok\n"
     ]
    }
   ],
   "source": [
    "kwargs={'user':'root','password':'Maxima1!','host':'127.0.0.1','database':'mysql'}\n",
    "try:\n",
    "    cnx=mysql.connector.connect(**kwargs)\n",
    "    cursor=cnx.cursor()\n",
    "    cursor.execute('CREATE TABLE persons(id int primary key , name varchar(20))')\n",
    "except mysql.connector.Error as err:\n",
    "    if err.errno == errorcode.ER_TABLE_EXISTS_ERROR:\n",
    "        print(\"the table already exists\")\n",
    "    else:\n",
    "        print(err.msg)\n",
    "else:\n",
    "    print(\"ok\")\n",
    "\n",
    "    "
   ]
  },
  {
   "cell_type": "code",
   "execution_count": 24,
   "id": "892c40ba",
   "metadata": {},
   "outputs": [],
   "source": [
    "cursor.close()\n",
    "cnx.close()"
   ]
  },
  {
   "cell_type": "code",
   "execution_count": 28,
   "id": "69f8935a",
   "metadata": {},
   "outputs": [],
   "source": [
    "#Creating tables in the MySQL database using the connector:\n",
    "\n",
    "import mysql.connector as mysql\n",
    "\n",
    "db = mysql.connect( host = \"localhost\", user = \"root\", password = \"Maxima1!\", database = \"mysql\" )\n",
    "\n",
    "cursor = db.cursor()\n",
    "## creating a table called 'Persons' in the 'test' database\n",
    "cursor.execute(\"CREATE TABLE person (name VARCHAR(25),address VARCHAR(35))\")"
   ]
  },
  {
   "cell_type": "code",
   "execution_count": 29,
   "id": "79b90443",
   "metadata": {},
   "outputs": [],
   "source": [
    "#insert data in a table called PERSONS.\n",
    "insert1=\"INSERT INTO person(name,address) VALUES('abishek','3/88, attavanani vanavasi')\"\n",
    "insert2=\"INSERT INTO person(name,address) VALUES('durga prasad','30,vanavasi,salem')\""
   ]
  },
  {
   "cell_type": "code",
   "execution_count": 31,
   "id": "3dd87ef0",
   "metadata": {},
   "outputs": [],
   "source": [
    "cursor.execute(insert1)\n",
    "cursor.execute(insert2)"
   ]
  },
  {
   "cell_type": "code",
   "execution_count": 32,
   "id": "62157f26",
   "metadata": {},
   "outputs": [],
   "source": [
    "# commit() method is used to permanently save the changes in the database\n",
    "db.commit()\n",
    "db.close()\n"
   ]
  },
  {
   "cell_type": "code",
   "execution_count": 44,
   "id": "a97f2299",
   "metadata": {
    "scrolled": true
   },
   "outputs": [
    {
     "data": {
      "text/plain": [
       "[('name', b'varchar(25)', 'YES', '', None, ''),\n",
       " ('address', b'varchar(35)', 'YES', '', None, '')]"
      ]
     },
     "execution_count": 44,
     "metadata": {},
     "output_type": "execute_result"
    }
   ],
   "source": [
    "#Insert Data into a Table Using Python variables in a MySQL INSERT query :\n",
    "\n",
    "import mysql.connector as mysql\n",
    "\n",
    "db = mysql.connect( host = \"localhost\", user = \"root\", password = \"Maxima1!\", database = \"mysql\" )\n",
    "\n",
    "cursor = db.cursor()\n",
    "\n",
    "cursor.execute(\"DESCRIBE person\")\n",
    "cursor.fetchall()"
   ]
  },
  {
   "cell_type": "code",
   "execution_count": 46,
   "id": "8dc761d6",
   "metadata": {},
   "outputs": [
    {
     "name": "stdout",
     "output_type": "stream",
     "text": [
      "1 record inserted\n"
     ]
    }
   ],
   "source": [
    "## defining the Query\n",
    "\n",
    "query = \"INSERT INTO person(name, address) VALUES(%s, %s)\"\n",
    "\n",
    "## storing values in a variable\n",
    "\n",
    "values = (\"Hafeez\", \"Subhash Marg,New Delhi\")\n",
    "\n",
    "## executing the query with values\n",
    "\n",
    "cursor.execute(query, values)\n",
    "\n",
    "## to make final output we have to run the 'commit()' method of the database object\n",
    "\n",
    "db.commit()\n",
    "\n",
    "print(cursor.rowcount, \"record inserted\")"
   ]
  },
  {
   "cell_type": "code",
   "execution_count": 50,
   "id": "7ad3edef",
   "metadata": {},
   "outputs": [
    {
     "name": "stdout",
     "output_type": "stream",
     "text": [
      "4 records inserted\n"
     ]
    }
   ],
   "source": [
    "# Inserting Multiple Rows\n",
    "\n",
    "values = [ (\"Peter\",\"M G Marg,Delhi\"), (\"Amy\", \"New Street,Kolkata\"), (\"Michael\", \"Lane 6,Bangaluru\"), (\"Hennah\", \"NEDFi House,Guwahati\") ]\n",
    "\n",
    "cursor.executemany(query, values)\n",
    "\n",
    "## to make final output we have to run the 'commit()' method of the database object\n",
    "\n",
    "db.commit()\n",
    "\n",
    "print(cursor.rowcount, \"records inserted\")\n",
    "\n",
    "\n"
   ]
  },
  {
   "cell_type": "code",
   "execution_count": 59,
   "id": "00d12c9f",
   "metadata": {},
   "outputs": [
    {
     "name": "stdout",
     "output_type": "stream",
     "text": [
      "Total number of rows in Persons is:  7\n",
      "\n",
      "Printing each person record\n",
      "Name =  abishek\n",
      "Address =  3/88, attavanani vanavasi\n",
      "Name =  durga prasad\n",
      "Address =  30,vanavasi,salem\n",
      "Name =  Hafeez\n",
      "Address =  Subhash Marg,New Delhi\n",
      "Name =  Peter\n",
      "Address =  M G Marg,Delhi\n",
      "Name =  Amy\n",
      "Address =  New Street,Kolkata\n",
      "Name =  Michael\n",
      "Address =  Lane 6,Bangaluru\n",
      "Name =  Hennah\n",
      "Address =  NEDFi House,Guwahati\n",
      "MySQL connection is closed\n"
     ]
    }
   ],
   "source": [
    "#Retrieve data from MySQL database using the connector:\n",
    "\n",
    "import mysql.connector\n",
    "\n",
    "from mysql.connector import Error\n",
    "\n",
    "try:\n",
    "\n",
    "    connection = mysql.connector.connect(host='localhost',database='mysql',user='root',password='Maxima1!')\n",
    "\n",
    "    sql_select_Query = \"select * from person\"\n",
    "\n",
    "    cursor = connection.cursor()\n",
    "\n",
    "    cursor.execute(sql_select_Query)\n",
    "\n",
    "    records = cursor.fetchall()\n",
    "\n",
    "    print(\"Total number of rows in Persons is: \", cursor.rowcount)\n",
    "\n",
    "    print(\"\\nPrinting each person record\")\n",
    "\n",
    "    for row in records:\n",
    "\n",
    "        print(\"Name = \", row[0], )\n",
    "\n",
    "        print(\"Address = \", row[1])\n",
    "\n",
    "except Error as e:\n",
    "\n",
    "    print(\"Error reading data from MySQL table\", e)\n",
    "\n",
    "\n",
    "finally:\n",
    "\n",
    "    if (connection.is_connected()):\n",
    "\n",
    "        connection.close()\n",
    "\n",
    "        cursor.close()\n",
    "\n",
    "        print(\"MySQL connection is closed\")\n",
    "\n"
   ]
  },
  {
   "cell_type": "code",
   "execution_count": 62,
   "id": "c36397c3",
   "metadata": {},
   "outputs": [
    {
     "name": "stdout",
     "output_type": "stream",
     "text": [
      "0 record(s) deleted\n"
     ]
    }
   ],
   "source": [
    "#  delete data in the MySQL database using the connector:\n",
    "\n",
    "mydb = mysql.connector.connect(\n",
    "host=\"localhost\",\n",
    "user=\"root\",\n",
    "password=\"Maxima1!\",\n",
    "database=\"mysql\"\n",
    ")\n",
    "\n",
    "mycursor =mydb.cursor()\n",
    "\n",
    "sql =\"DELETE FROM person WHERE address = 'Mountain 21'\"\n",
    "\n",
    "mycursor.execute(sql)\n",
    "\n",
    "mydb.commit()\n",
    "\n",
    "print(mycursor.rowcount, \"record(s) deleted\")"
   ]
  },
  {
   "cell_type": "code",
   "execution_count": null,
   "id": "32003d05",
   "metadata": {},
   "outputs": [],
   "source": []
  }
 ],
 "metadata": {
  "kernelspec": {
   "display_name": "Python 3 (ipykernel)",
   "language": "python",
   "name": "python3"
  },
  "language_info": {
   "codemirror_mode": {
    "name": "ipython",
    "version": 3
   },
   "file_extension": ".py",
   "mimetype": "text/x-python",
   "name": "python",
   "nbconvert_exporter": "python",
   "pygments_lexer": "ipython3",
   "version": "3.9.13"
  }
 },
 "nbformat": 4,
 "nbformat_minor": 5
}
